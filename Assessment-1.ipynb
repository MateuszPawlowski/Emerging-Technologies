{
 "cells": [
  {
   "cell_type": "markdown",
   "metadata": {},
   "source": [
    "# Assessment 1\n",
    "\n",
    "https://www.tutorialspoint.com/How-to-perform-square-root-without-using-math-module-in-Python\n",
    "\n",
    "https://www.codegrepper.com/code-examples/matlab/Limiting+floats+to+100+decimal+points+python\n",
    "\n",
    "https://apod.nasa.gov/htmltest/gifcity/sqrt10.1mil"
   ]
  },
  {
   "cell_type": "code",
   "execution_count": 1,
   "metadata": {},
   "outputs": [],
   "source": [
    "def sqrt2():\n",
    "    x = 2**(1 / 2)\n",
    "    z = print(\"{:.100f}\".format(x))\n",
    "    return z\n",
    "    \n",
    "    #z = 2/2\n",
    "    #while abs(2 - (z * z)) > 0.00000000000001:\n",
    "    #    z = (z+2/z)/2\n",
    "    #y = print(\"{:.100f}\".format(z))\n",
    "    #return y\n",
    "    "
   ]
  },
  {
   "cell_type": "code",
   "execution_count": 2,
   "metadata": {},
   "outputs": [
    {
     "name": "stdout",
     "output_type": "stream",
     "text": [
      "1.4142135623730951454746218587388284504413604736328125000000000000000000000000000000000000000000000000\n"
     ]
    }
   ],
   "source": [
    "sqrt2()"
   ]
  },
  {
   "cell_type": "markdown",
   "metadata": {},
   "source": [
    "Quick Find: &ensp;&emsp; 1.4142135623730951454746218587388284504413604736328125000000000000000000000000000000000000000000000000\n",
    "\n",
    "Our Lecturers:&ensp; 1.4142135623730951454746218587388284504413604736328125000000000000000000000000000000000000000000000000\n",
    "\n",
    "Longer Search: 1.4142135623730949234300169337075203657150268554687500000000000000000000000000000000000000000000000000\n",
    "\n",
    "First 1 million: &ensp; 1.4142135623730950488016887242096980785696718753769480731766797379907324784621070388503875343276415727\n"
   ]
  },
  {
   "cell_type": "code",
   "execution_count": null,
   "metadata": {},
   "outputs": [],
   "source": []
  }
 ],
 "metadata": {
  "kernelspec": {
   "display_name": "Python 3",
   "language": "python",
   "name": "python3"
  },
  "language_info": {
   "codemirror_mode": {
    "name": "ipython",
    "version": 3
   },
   "file_extension": ".py",
   "mimetype": "text/x-python",
   "name": "python",
   "nbconvert_exporter": "python",
   "pygments_lexer": "ipython3",
   "version": "3.8.3"
  }
 },
 "nbformat": 4,
 "nbformat_minor": 4
}
