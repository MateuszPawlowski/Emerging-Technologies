{
 "cells": [
  {
   "cell_type": "markdown",
   "metadata": {},
   "source": [
    "# Tasks"
   ]
  },
  {
   "cell_type": "markdown",
   "metadata": {},
   "source": [
    "These are my solutions to the tasks. The author is Mateusz Pawlowski.\n",
    "***"
   ]
  },
  {
   "cell_type": "markdown",
   "metadata": {},
   "source": [
    "## Task 1: Calculate a sqaure root"
   ]
  },
  {
   "cell_type": "markdown",
   "metadata": {},
   "source": [
    "### Introduction\n",
    "[1] In a mathematical form, a square root is a number equal to a number that is squared by itself. For example: $ y^2 = x $. \n",
    "<br>\n",
    "The symbol $ \\sqrt{} $ will always mean the positive square root.\n",
    "<br>\n",
    "Example: $ \\sqrt{64} = 8 $ thats beacause $ 8^2 = 64 $\n",
    "\n",
    "We can calculate the square root of a number using Newton's method [1,2].\n",
    "To find the square root $z$ number $x$, we can iterate using the following equation.\n",
    "$$ z = y + (\\frac xy) $$\n",
    "\n",
    "### My way of getting the answer\n",
    "With a quick google search I was able to find some good square root functions however, all of the functions were outputting around 50 digits after the decimal and after that it would just show me zeros. That was no good to me as our task stated we needed the first hundred numbers after the decimal. This made the task much harder to figure out and gave me a challenge. After some resaearch I found a forum on stackoverflow [4], explaining and showing a way of generating x amount of digits. This would store the information in a string. Now after that I have the numbers itself and they are fairly accurate to the original i needed to add a decimal after the first digit. That is when I started looking around the internet again and found another forum on stackoverflow explaining and showing how to go about it [5]. With all that done I had to call the sqrt function and let it run.\n",
    "\n",
    "### References\n",
    "[1] Wikipedia; Square root; https://en.wikipedia.org/wiki/Square_root\n",
    "\n",
    "[2] A Tour of Go; Exercise: Loops and Functions; https://tour.golang.org/flowcontrol/8\n",
    "\n",
    "[3] Newton's Method; https://en.wikipedia.org/wiki/Newton%27s_method\n",
    "\n",
    "[4] Generate x Amount of digits: Author, cashev; https://stackoverflow.com/questions/5187664/generating-digits-of-square-root-of-2\n",
    "\n",
    "[5] Add dot seperator: Author, Dmytro Chasovskyi; https://stackoverflow.com/questions/53976250/how-to-add-dot-separator-on-different-positions-of-a-number-in-python"
   ]
  },
  {
   "cell_type": "code",
   "execution_count": 1,
   "metadata": {},
   "outputs": [],
   "source": [
    "def sqrt2():\n",
    "    \n",
    "    \"\"\"\n",
    "    A function to calculate the square root of a number x.\n",
    "    \"\"\"\n",
    "    \n",
    "    # initialise x to 2 as we are \n",
    "    # looking for the square root of 2\n",
    "    x = 2\n",
    "    \n",
    "    x = x *(10**(2*100))\n",
    "    y = 0\n",
    "    z = 1 * (10**100)\n",
    "    \n",
    "    # while loop until the accuracy is good\n",
    "    while y!=z:\n",
    "        y = z\n",
    "        z = (y + ( x // y)) >> 1\n",
    "        \n",
    "    # store the value in a list\n",
    "    l = list(str(z))\n",
    "    \n",
    "    # add a dot after 1 decimanl place\n",
    "    l.insert(1, '.')\n",
    "    \n",
    "    # in order to make the numbers horizontal\n",
    "    # instead of vertical\n",
    "    num = ''.join(l)\n",
    "    \n",
    "    # return the value\n",
    "    return num"
   ]
  },
  {
   "cell_type": "code",
   "execution_count": 2,
   "metadata": {},
   "outputs": [
    {
     "data": {
      "text/plain": [
       "'1.4142135623730950488016887242096980785696718753769480731766797379907324784621070388503875343276415727'"
      ]
     },
     "execution_count": 2,
     "metadata": {},
     "output_type": "execute_result"
    }
   ],
   "source": [
    "# call function\n",
    "sqrt2()"
   ]
  },
  {
   "cell_type": "markdown",
   "metadata": {},
   "source": [
    "## Task 2: Chi squared value"
   ]
  },
  {
   "cell_type": "markdown",
   "metadata": {},
   "source": [
    "### Introduction\n",
    "A Chi Squared test also known as $ x^2 $ test is a statistical hypothesis test. It is a test to see is there a significant relationship between two categorical variables (wheter the varaibles are independent or related). This test can not compare any continuous variables or categorical and continuous  variables [1,2].\n",
    "\n",
    "We are not calculating one thing with the whole test. Matter of fact it is 4 different tests we are going to perform. The degrees of freedom, expected frequencies, test statistics and the p-value.\n",
    "Here are the formulas for each one:\n",
    "\n",
    "[3]\n",
    "**Degrees of freedom:** $DF = (r - 1) * (c - 1)$ where $r$ is the number of level for one categorical variable and $c$ is the number of levels for the other categorical variables.\n",
    "\n",
    "[3]\n",
    "**Expected frequencies:** $E_{r,c} = \\frac{n_r*n_c}{n}$ (to see it better: $E_{r,c} = n_r*n_c / n$) where $E_{r,c}$ is the expected frequency count for level $r$ of variable $A$ and level $c$ of variable $B$. $N_r$ is the total number of sample observations at level $r$ of variable $A$. $N_c$ is the total number of sample observations at level $c$ of Variable $B$. $n$ is the total sample size.\n",
    "\n",
    "[3]\n",
    "**Test Statistic:** $x^2 = \\Sigma [\\frac{(O_{r,c} - E_{r,c})^2}{E_{r,c}}]$ (to see it better: $x^2 = \\Sigma [(O_r,_c - E_{r,c})^2 / E_{r,c}])$ where $O_{r,c}$ is the observed frequency count at level $r$ of Variable $A$ and level $c$ of Variable $B$, and $E_{r,c}$ is the expected frequency count at level $r$ of Variable $A$ and level $c$ of Variable $B$.\n",
    "\n",
    "[3]\n",
    "**P Value:** The P-value is the probability of observing a sample statistic as extreme as the test statistic. Since the test statistic is a chi-square, use the Chi-Square Distribution Calculator to assess the probability associated with the test statistic. Use the degrees of freedom computed above.\n",
    "\n",
    "### My Way Of Getting The Answer\n",
    "For this task we were given a table that was originally taken from the wikipedia. It is shown with the image below.\n",
    "![Chi Squared](img/chiSquare.png)\n",
    "I had no idea of what a chi square test for independace was before starting this task. This made me have to do much more research compared to the square root task. I had a hard time in the beginning figuring it out but after some time I found nice sites that helped me understand it better. With the understanding of it, I started to look at the coding part. There was lots of documentation but eventually I found a website that helped me a lot with this task [4]. In the example they used panda import for the colums and rows. We were not allowed to use any of those imports so I found my own way on how to put up a dataset similar to the one they used. With the data stored, there was one more step before printing the output out. I had to uses the \"stats.chi2_contigency()\" function that would return to me 4 values. The values would be, the chi squared value, associated p value, degrees of freedom and thE expected frequencies. After figuring that out it was a matter of just printing the values on to the screen.\n",
    "### References\n",
    "[1] Kent State University: Chi Square Test of Independace;https://libguides.library.kent.edu/spss/chisquare\n",
    "\n",
    "[2] Statistics How To: Chi-Square Statistic;https://www.statisticshowto.com/probability-and-statistics/chi-square/#chisquareqtest\n",
    "\n",
    "[3] Stat Trek: Analyze Sample Data;https://stattrek.com/chi-square-test/independence.aspx\n",
    "https://oeis.org/wiki/List_of_LaTeX_mathematical_symbols\n",
    "\n",
    "[4] Python Healthcare: 58 Statistics Chi Square Test;https://pythonhealthcare.org/2018/04/13/58-statistics-chi-squared-test/"
   ]
  },
  {
   "cell_type": "code",
   "execution_count": 3,
   "metadata": {},
   "outputs": [
    {
     "name": "stdout",
     "output_type": "stream",
     "text": [
      "24.6\n",
      "0.0004098425861096696\n",
      "6\n",
      "[[ 80.53846154  80.53846154 107.38461538  80.53846154]\n",
      " [ 34.84615385  34.84615385  46.46153846  34.84615385]\n",
      " [ 34.61538462  34.61538462  46.15384615  34.61538462]]\n"
     ]
    }
   ],
   "source": [
    "# import numerical arrays\n",
    "import scipy.stats as stats\n",
    "\n",
    "# creating data\n",
    "cols = ['A', 'B', 'C', 'D']\n",
    "data = [[90, 60, 104, 95],[30,50,51,20],[30,40,45,35]]\n",
    "\n",
    "# chi2 - chi squared value\n",
    "# p - associated p value\n",
    "# df - degrees freedom\n",
    "# exp - expected frequencies\n",
    "\n",
    "# is a function that returns 4 values\n",
    "chi2,p,df,exp = stats.chi2_contingency(data)\n",
    "\n",
    "# print outs of the answers\n",
    "print(\"%.1f\"% chi2)\n",
    "print(p)\n",
    "print(df)\n",
    "print(exp)"
   ]
  },
  {
   "cell_type": "markdown",
   "metadata": {},
   "source": [
    "## Task 3: Standard Deviation Difference"
   ]
  },
  {
   "cell_type": "markdown",
   "metadata": {},
   "source": [
    "### Introduction\n",
    "The standard deviation measures the spread scores within a set of data. We are normally interested in population standard deviation as we usally have all the values from the data. However, in statistics you are usually given a sample from which we wish to estimate a population. In this case we would use sample standard deviation as it will be more accurate. As seen in the code below we have a full data, containing all the numbers and then a sample data of the numbers from the full data. After doing the calculations we see that the sample standard deviation gives us a more percise value than population standard deviation, to the full data standard deviation [1]. \n",
    "\n",
    "**Population standard deviation defenition:** Population standard deviation is a parameter It is a fixed value calculated from every individual from the population [2].\n",
    "\n",
    "**Sample standard devation defenition:** Sample standard deviation is a statistic. It is calculated only from a \"sample\" of the population. Since it depends on the sample itself it has a higher variability making it greater from population standard \n",
    "devitation [2].\n",
    "\n",
    "Here are the forumals for each:\n",
    "\n",
    "[3] **Sample Standard Deviation:** $s = \\sqrt{\\frac{\\Sigma^N_{i=1}(x_i - \\bar{x})^2}{N - 1}}$ (to see better: $s = sqrt[\\Sigma^N_{i=1}(x_i - \\bar{x})^2 / N - 1]$)\n",
    "\n",
    "$s$ = Sample standard deviation<br>\n",
    "$N$ = Number of observations<br>\n",
    "$x_i$ = Observed values is a sample item<br>\n",
    "$\\bar x$ = Mean value of the observations\n",
    "\n",
    "[3] **Population Standard Deviation:** $\\sigma = \\sqrt{\\frac{\\Sigma(x_i - \\mu)^2}{N}}$ (to see better: $s = sqrt[\\Sigma(x_i - \\mu)^2 / N]$)\n",
    "\n",
    "$\\sigma$ = Population standard deviation<br>\n",
    "$N$ = Size of population<br>\n",
    "$x_i$ = Each value from the population<br>\n",
    "$\\mu$ = Population mean\n",
    "\n",
    "### My Way Of Getting The Answer\n",
    "This task involved us not so much as code, but to do research about sample standard deviation and population standard deviation and explain why sample standard deviation has a better accuracy. In order to start anything, I created two sets of data. The full data, and the sample data containing some of the numbers from the full data. In this task the lines of code we needed to use were given to us at start, same with the import. It was more to research the two function than finding how to run the code.\n",
    "\n",
    "### References\n",
    "\n",
    "[1] Laerd Statistics: Standard Deviation;https://statistics.laerd.com/statistical-guides/measures-of-spread-standard-deviation.php\n",
    "\n",
    "[2] ThoughtCo: Differences Between Population and Sample Standard Deviations;https://www.thoughtco.com/population-vs-sample-standard-deviations-3126372#:~:text=The%20population%20standard%20deviation%20is,the%20individuals%20in%20a%20population.\n",
    "\n",
    "\n",
    "[3] Khan Academy: Population and Sample standard deviation review;https://www.khanacademy.org/math/statistics-probability/summarizing-quantitative-data/variance-standard-deviation-sample/a/population-and-sample-standard-deviation-review#:~:text=Here's%20how%20to%20calculate%20sample,These%20differences%20are%20called%20deviations."
   ]
  },
  {
   "cell_type": "code",
   "execution_count": 4,
   "metadata": {},
   "outputs": [
    {
     "name": "stdout",
     "output_type": "stream",
     "text": [
      "Full Data, Population Standard Deviation: 2.5409835147482207 \n",
      "\n",
      "Sample Data, Population Standard Deviation: 2.9255074346171126\n",
      "Sample Data, Sample Standard Deviation: 2.7492896809903464\n"
     ]
    }
   ],
   "source": [
    "# import numerical arrays\n",
    "import numpy as np \n",
    "\n",
    "# datasets for calculations\n",
    "fullData = [10,4,10,2,5,8,8,3,3,9,7,4,10,5,4,9,7,6,9,4,8,9,10,7]\n",
    "sampleData = [1,8,5,10,10,7,5,10,9,10,9,8,2,4,9,4]\n",
    "\n",
    "# calculating the std.P with full data\n",
    "fullStdP = np.sqrt(np.sum((fullData - np.mean(fullData))**2)/len(fullData))\n",
    "\n",
    "# using sample data to calculate std.P and std.S\n",
    "sampleStdP = np.sqrt(np.sum((sampleData - np.mean(sampleData))**2)/len(sampleData))\n",
    "sampleStdS = np.sqrt(np.sum((sampleData - np.mean(sampleData))**2)/len(sampleData)-1)\n",
    "\n",
    "# printing out and showing that std.S is more accurate from std.P\n",
    "print(\"Full Data, Population Standard Deviation:\",fullStdP,\"\\n\")\n",
    "print(\"Sample Data, Population Standard Deviation:\",sampleStdP)\n",
    "print(\"Sample Data, Sample Standard Deviation:\",sampleStdS)\n"
   ]
  },
  {
   "cell_type": "markdown",
   "metadata": {},
   "source": [
    "## Task 4: Iris Data Set "
   ]
  },
  {
   "cell_type": "markdown",
   "metadata": {},
   "source": [
    "### Introduction\n",
    "The iris data set consists of three different types of irises, Setosa, Versicolour, Virginica. From these types, four features were measured from each sample, the length and width of sepals and petals. Below there is a picture of each one. Based on Fisher's linear discriminant model, this data set became a common test for statistical classification techniques in machine learning. The dataset is included in R base and Python in the machine learning package Scikit-learn, so that users can access it without having to find a source for it. The data itself consits of 5 attributes, petal lenght, petal width, sepal length, sepal width and species. The set comes to 150 records[2]. \n",
    "![Iris Types](img/iris.png)\n",
    "\n",
    "### My Way Of Getting The Answer\n",
    "In order to tackle this task I started of by doing research on iris data set. I needed a way to input the data into my notebook. There are two ways of doing that I found. First way which I found to be very easy and handy, is you import the data from sklearn.datasets, and then load in the whole data to obtain it. The second way, you need to find the data on the internet, donwload and save to your local machine as a .csv file. You then need to import panda and read the file using pd.read_csv(\"Your Directory To The File\"). After that you print out the data [3]. Now that I obtained the data and loaded it in, I plotted a graph just to test everything is working properly, using the matplotlib.pyplot import. The problem with the graph was that it had no colour, making it impossible to read the different clusters. I had to perform a kmean fit and made sure that I am allowing 3 clusters to be put it. I plotted the data again but now each cluster was represented by a different colour making it much better to read. Then I inserted a dummy data for classification, in order to show that kmeans can predict what cluster data to go into. By plotting the dummy set and iris set we can see that depending on the result each prediction is put into a cluster. At the end I found the centre of each cluster.\n",
    "\n",
    "### References\n",
    "[1] Scikit-Learn: The Iris Dataset; https://scikit-learn.org/stable/auto_examples/datasets/plot_iris_dataset.html\n",
    "\n",
    "[2] Wikipedia: Iris flower data set;https://en.wikipedia.org/wiki/Iris_flower_data_set\n",
    "\n",
    "[3] GeeksforGeeks: Python – Basics of Pandas using Iris Dataset; https://www.geeksforgeeks.org/python-basics-of-pandas-using-iris-dataset/\n",
    "\n",
    "[4] Scikit-Learn: sklearn.cluster.KMeans;https://scikit-learn.org/stable/modules/generated/sklearn.cluster.KMeans.html#sklearn.cluster.KMeans"
   ]
  },
  {
   "cell_type": "code",
   "execution_count": 5,
   "metadata": {},
   "outputs": [],
   "source": [
    "# import numerical arrays\n",
    "import numpy as np\n",
    "\n",
    "# Import kmeans\n",
    "import sklearn.cluster as skcl\n",
    "\n",
    "# Import plotting\n",
    "import matplotlib.pyplot as plt\n",
    "\n",
    "# import iris data set from sklearn\n",
    "from sklearn.datasets import load_iris"
   ]
  },
  {
   "cell_type": "code",
   "execution_count": 6,
   "metadata": {},
   "outputs": [],
   "source": [
    "loadIris = load_iris()\n",
    "irisData =loadIris.data "
   ]
  },
  {
   "cell_type": "code",
   "execution_count": 7,
   "metadata": {},
   "outputs": [
    {
     "data": {
      "text/plain": [
       "Text(0, 0.5, 'Sepal width')"
      ]
     },
     "execution_count": 7,
     "metadata": {},
     "output_type": "execute_result"
    },
    {
     "data": {
      "image/png": "[encoded data removed]",
      "text/plain": [
       "<Figure size 432x288 with 1 Axes>"
      ]
     },
     "metadata": {
      "needs_background": "light"
     },
     "output_type": "display_data"
    }
   ],
   "source": [
    "# Plotting the data on to the screen\n",
    "plt.plot(irisData[:,0], irisData[:,1], 'x')\n",
    "plt.xlabel('Sepal length')\n",
    "plt.ylabel('Sepal width')\n",
    "#plt.xticks(()) # uncomment to remove x values\n",
    "#plt.yticks(()) # uncomment to remove y values"
   ]
  },
  {
   "cell_type": "code",
   "execution_count": 8,
   "metadata": {},
   "outputs": [],
   "source": [
    "# Performing kmean fit\n",
    "kmeans = skcl.KMeans(n_clusters=3, random_state=0).fit(irisData)"
   ]
  },
  {
   "cell_type": "code",
   "execution_count": 9,
   "metadata": {},
   "outputs": [
    {
     "data": {
      "text/plain": [
       "Text(0, 0.5, 'Sepal width')"
      ]
     },
     "execution_count": 9,
     "metadata": {},
     "output_type": "execute_result"
    },
    {
     "data": {
      "image/png": "[encoded data removed]",
      "text/plain": [
       "<Figure size 432x288 with 1 Axes>"
      ]
     },
     "metadata": {
      "needs_background": "light"
     },
     "output_type": "display_data"
    }
   ],
   "source": [
    "# Plotting the data on to the screen\n",
    "plt.plot(irisData[kmeans.labels_ == 0][:,0], irisData[kmeans.labels_ == 0][:,1], 'gx')\n",
    "plt.plot(irisData[kmeans.labels_ == 1][:,0], irisData[kmeans.labels_ == 1][:,1], 'rx')\n",
    "plt.plot(irisData[kmeans.labels_ == 2][:,0], irisData[kmeans.labels_ == 2][:,1], 'bx')\n",
    "plt.xlabel('Sepal length')\n",
    "plt.ylabel('Sepal width')\n",
    "#plt.xticks(()) # uncomment to remove x values\n",
    "#plt.yticks(()) # uncomment to remove y values"
   ]
  },
  {
   "cell_type": "code",
   "execution_count": 10,
   "metadata": {},
   "outputs": [
    {
     "data": {
      "text/plain": [
       "array([[4. , 4. , 4. , 4. ],\n",
       "       [4.4, 4.2, 4.4, 4.2],\n",
       "       [4.8, 4.4, 4.8, 4.4],\n",
       "       [5.2, 4.6, 5.2, 4.6],\n",
       "       [5.6, 4.8, 5.6, 4.8],\n",
       "       [6. , 5. , 6. , 5. ]])"
      ]
     },
     "execution_count": 10,
     "metadata": {},
     "output_type": "execute_result"
    }
   ],
   "source": [
    "# Dummy data for classification\n",
    "xValues = np.linspace(4.0, 6.0, 6)\n",
    "yValues = np.linspace(4.0, 5.0, 6)\n",
    "xValues2 = np.linspace(4.0, 6.0, 6)\n",
    "yValues2 = np.linspace(4.0, 5.0, 6)\n",
    "\n",
    "newValues = np.vstack([xValues, yValues, xValues2, yValues2]).T\n",
    "newValues"
   ]
  },
  {
   "cell_type": "code",
   "execution_count": 11,
   "metadata": {},
   "outputs": [
    {
     "data": {
      "text/plain": [
       "array([2, 2, 0, 0, 0, 0])"
      ]
     },
     "execution_count": 11,
     "metadata": {},
     "output_type": "execute_result"
    }
   ],
   "source": [
    "# Predicting cluster\n",
    "predictions = kmeans.predict(newValues)\n",
    "predictions"
   ]
  },
  {
   "cell_type": "code",
   "execution_count": 12,
   "metadata": {},
   "outputs": [
    {
     "data": {
      "text/plain": [
       "Text(0, 0.5, 'Sepal width')"
      ]
     },
     "execution_count": 12,
     "metadata": {},
     "output_type": "execute_result"
    },
    {
     "data": {
      "image/png": "[encoded data removed]",
      "text/plain": [
       "<Figure size 432x288 with 1 Axes>"
      ]
     },
     "metadata": {
      "needs_background": "light"
     },
     "output_type": "display_data"
    }
   ],
   "source": [
    "# Plotting the data on to the screen\n",
    "plt.plot(irisData[kmeans.labels_ == 0][:,0], irisData[kmeans.labels_ == 0][:,1], 'gx')\n",
    "plt.plot(irisData[kmeans.labels_ == 1][:,0], irisData[kmeans.labels_ == 1][:,1], 'rx')\n",
    "plt.plot(irisData[kmeans.labels_ == 2][:,0], irisData[kmeans.labels_ == 2][:,1], 'bx')\n",
    "\n",
    "# Plotting predicitions\n",
    "plt.plot(newValues[predictions == 0][:,0], newValues[predictions == 0][:,1], 'go')\n",
    "plt.plot(newValues[predictions == 1][:,0], newValues[predictions == 1][:,1], 'ro')\n",
    "plt.plot(newValues[predictions == 2][:,0], newValues[predictions == 2][:,1], 'bo')\n",
    "plt.xlabel('Sepal length')\n",
    "plt.ylabel('Sepal width')\n",
    "#plt.xticks(()) # uncomment to remove x values\n",
    "#plt.yticks(()) # uncomment to remove y values"
   ]
  },
  {
   "cell_type": "code",
   "execution_count": 13,
   "metadata": {},
   "outputs": [
    {
     "data": {
      "text/plain": [
       "array([[6.85      , 3.07368421, 5.74210526, 2.07105263],\n",
       "       [5.006     , 3.428     , 1.462     , 0.246     ],\n",
       "       [5.9016129 , 2.7483871 , 4.39354839, 1.43387097]])"
      ]
     },
     "execution_count": 13,
     "metadata": {},
     "output_type": "execute_result"
    }
   ],
   "source": [
    "# Get the center of each cluster\n",
    "clusterCenter = kmeans.cluster_centers_\n",
    "clusterCenter"
   ]
  },
  {
   "cell_type": "code",
   "execution_count": 14,
   "metadata": {},
   "outputs": [
    {
     "data": {
      "text/plain": [
       "Text(0, 0.5, 'Sepal width')"
      ]
     },
     "execution_count": 14,
     "metadata": {},
     "output_type": "execute_result"
    },
    {
     "data": {
      "image/png": "[encoded data removed]",
      "text/plain": [
       "<Figure size 432x288 with 1 Axes>"
      ]
     },
     "metadata": {
      "needs_background": "light"
     },
     "output_type": "display_data"
    }
   ],
   "source": [
    "# Plotting the data on to the screen\n",
    "plt.plot(irisData[kmeans.labels_ == 0][:,0], irisData[kmeans.labels_ == 0][:,1], 'gx')\n",
    "plt.plot(irisData[kmeans.labels_ == 1][:,0], irisData[kmeans.labels_ == 1][:,1], 'rx')\n",
    "plt.plot(irisData[kmeans.labels_ == 2][:,0], irisData[kmeans.labels_ == 2][:,1], 'bx')\n",
    "\n",
    "# Plotting predicitions\n",
    "plt.plot(newValues[predictions == 0][:,0], newValues[predictions == 0][:,1], 'go')\n",
    "plt.plot(newValues[predictions == 1][:,0], newValues[predictions == 1][:,1], 'ro')\n",
    "plt.plot(newValues[predictions == 2][:,0], newValues[predictions == 2][:,1], 'bo')\n",
    "\n",
    "# Plots the center of each cluster\n",
    "plt.plot(clusterCenter[:,0], clusterCenter[:,1], 'ko')\n",
    "plt.xlabel('Sepal length')\n",
    "plt.ylabel('Sepal width')\n",
    "#plt.xticks(()) # uncomment to remove x values\n",
    "#plt.yticks(()) # uncomment to remove y values"
   ]
  }
 ],
 "metadata": {
  "kernelspec": {
   "display_name": "Python 3",
   "language": "python",
   "name": "python3"
  },
  "language_info": {
   "codemirror_mode": {
    "name": "ipython",
    "version": 3
   },
   "file_extension": ".py",
   "mimetype": "text/x-python",
   "name": "python",
   "nbconvert_exporter": "python",
   "pygments_lexer": "ipython3",
   "version": "3.8.3"
  }
 },
 "nbformat": 4,
 "nbformat_minor": 4
}
