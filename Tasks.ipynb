{
 "cells": [
  {
   "cell_type": "markdown",
   "metadata": {},
   "source": [
    "# Tasks"
   ]
  },
  {
   "cell_type": "markdown",
   "metadata": {},
   "source": [
    "These are my solutions to the tasks. The author is Mateusz Pawlowski.\n",
    "***"
   ]
  },
  {
   "cell_type": "markdown",
   "metadata": {},
   "source": [
    "### Task 1: Calculate a sqaure root"
   ]
  },
  {
   "cell_type": "markdown",
   "metadata": {},
   "source": [
    "[1] In a mathematical form, a square root is a number equal to a number that is squared by itself. For example: $ y^2 = x $\n",
    "\n",
    "We can calculate the square root of a number using Newton's method [1,2].\n",
    "To find the square root $z$ number $x$, we can iterate using the following equation.\n",
    "$$ z = y + (\\frac xy) $$\n",
    "\n",
    "[1] Wikipedia; Square root; https://en.wikipedia.org/wiki/Square_root\n",
    "\n",
    "[2] A Tour of Go; Exercise: Loops and Functions; https://tour.golang.org/flowcontrol/8\n",
    "\n",
    "[3] Newton's Method; https://en.wikipedia.org/wiki/Newton%27s_method\n",
    "\n",
    "\n",
    "\n",
    "https://stackoverflow.com/questions/5187664/generating-digits-of-square-root-of-2\n",
    "\n",
    "https://stackoverflow.com/questions/53976250/how-to-add-dot-separator-on-different-positions-of-a-number-in-python"
   ]
  },
  {
   "cell_type": "code",
   "execution_count": 1,
   "metadata": {},
   "outputs": [],
   "source": [
    "def sqrt2():\n",
    "    \n",
    "    \"\"\"\n",
    "    A function to calculate the square root of a number x.\n",
    "    \"\"\"\n",
    "    \n",
    "    # initialise x to 2 as we are \n",
    "    # looking for the square root of 2\n",
    "    x = 2\n",
    "    \n",
    "    x = x *(10**(2*100))\n",
    "    y = 0\n",
    "    z = 1 * (10**100)\n",
    "    \n",
    "    # while loop until the accuracy is good\n",
    "    while y!=z:\n",
    "        y = z\n",
    "        z = (y + ( x // y)) >> 1\n",
    "        \n",
    "    # store the value in a list\n",
    "    l = list(str(z))\n",
    "    \n",
    "    # add a dot after 1 decimanl place\n",
    "    l.insert(1, '.')\n",
    "    \n",
    "    # in order to make the numbers horizontal\n",
    "    # instead of vertical\n",
    "    num = ''.join(l)\n",
    "    \n",
    "    # return the value\n",
    "    return num"
   ]
  },
  {
   "cell_type": "code",
   "execution_count": 2,
   "metadata": {},
   "outputs": [
    {
     "data": {
      "text/plain": [
       "'1.4142135623730950488016887242096980785696718753769480731766797379907324784621070388503875343276415727'"
      ]
     },
     "execution_count": 2,
     "metadata": {},
     "output_type": "execute_result"
    }
   ],
   "source": [
    "# call function\n",
    "sqrt2()"
   ]
  },
  {
   "cell_type": "markdown",
   "metadata": {},
   "source": [
    "https://www.tutorialspoint.com/How-to-perform-square-root-without-using-math-module-in-Python\n",
    "\n",
    "https://www.codegrepper.com/code-examples/matlab/Limiting+floats+to+100+decimal+points+python\n",
    "\n",
    "https://apod.nasa.gov/htmltest/gifcity/sqrt10.1mil"
   ]
  },
  {
   "cell_type": "markdown",
   "metadata": {},
   "source": [
    "### Task: Chi squared value\n"
   ]
  },
  {
   "cell_type": "code",
   "execution_count": 3,
   "metadata": {},
   "outputs": [
    {
     "name": "stdout",
     "output_type": "stream",
     "text": [
      "24.6\n",
      "0.0004098425861096696\n",
      "6\n",
      "[[ 80.53846154  80.53846154 107.38461538  80.53846154]\n",
      " [ 34.84615385  34.84615385  46.46153846  34.84615385]\n",
      " [ 34.61538462  34.61538462  46.15384615  34.61538462]]\n"
     ]
    }
   ],
   "source": [
    "# imports\n",
    "import scipy.stats as stats\n",
    "\n",
    "# creating arrays \n",
    "cols = ['A', 'B', 'C', 'D']\n",
    "data = [[90, 60, 104, 95],[30,50,51,20],[30,40,45,35]]\n",
    "\n",
    "# chi2 - chi squared value\n",
    "# p - associated p value\n",
    "# d - degrees freedom\n",
    "# exp - expected frequencies\n",
    "chi2,p,df,exp = stats.chi2_contingency(data)\n",
    "\n",
    "# print outs of the answers\n",
    "print(\"%.1f\"% chi2)\n",
    "print(p)\n",
    "print(df)\n",
    "print(exp)"
   ]
  },
  {
   "cell_type": "markdown",
   "metadata": {},
   "source": [
    "### Task 3: Standard Deviation Difference"
   ]
  },
  {
   "cell_type": "markdown",
   "metadata": {},
   "source": [
    "Population standard deviation defenition:Population standard deviation is a paramete. It is a fixed value calculated from every individual from the population. \n",
    "\n",
    "Sample standard devation defenition: Sample standard deviation is a statistic. It is calculated only from a \"sample\" of the population. Since it depends on the sample itself it has a higher variability making it greater from population standard devitation \n",
    "\n",
    "\n",
    "https://www.thoughtco.com/population-vs-sample-standard-deviations-3126372#:~:text=The%20population%20standard%20deviation%20is,the%20individuals%20in%20a%20population.\n",
    "\n",
    "\n",
    "\n"
   ]
  },
  {
   "cell_type": "code",
   "execution_count": 20,
   "metadata": {},
   "outputs": [
    {
     "name": "stdout",
     "output_type": "stream",
     "text": [
      "Population Standard Deviation: 23.917037679403876 \n",
      "\n",
      "Sample Standard Deviation: 23.896122935698685\n"
     ]
    }
   ],
   "source": [
    "import numpy as np \n",
    "\n",
    "data = [28, 20, 36, 41, 45, 66, 15, 42, 98]\n",
    "\n",
    "stdP = np.sqrt(np.sum((data - np.mean(data))**2)/len(data)) \n",
    "stdS = np.sqrt(np.sum((data - np.mean(data))**2)/len(data)-1)\n",
    "\n",
    "print(\"Population Standard Deviation:\",stdP,\"\\n\")\n",
    "print(\"Sample Standard Deviation:\",stdS)\n"
   ]
  },
  {
   "cell_type": "markdown",
   "metadata": {},
   "source": [
    "### Task4: Iris Data Set "
   ]
  },
  {
   "cell_type": "code",
   "execution_count": null,
   "metadata": {},
   "outputs": [],
   "source": [
    "# IDS"
   ]
  }
 ],
 "metadata": {
  "kernelspec": {
   "display_name": "Python 3",
   "language": "python",
   "name": "python3"
  },
  "language_info": {
   "codemirror_mode": {
    "name": "ipython",
    "version": 3
   },
   "file_extension": ".py",
   "mimetype": "text/x-python",
   "name": "python",
   "nbconvert_exporter": "python",
   "pygments_lexer": "ipython3",
   "version": "3.8.3"
  }
 },
 "nbformat": 4,
 "nbformat_minor": 4
}
