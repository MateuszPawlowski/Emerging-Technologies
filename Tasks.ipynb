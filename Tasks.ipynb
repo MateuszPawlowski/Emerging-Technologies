{
 "cells": [
  {
   "cell_type": "markdown",
   "metadata": {},
   "source": [
    "# Tasks"
   ]
  },
  {
   "cell_type": "markdown",
   "metadata": {},
   "source": [
    "These are my solutions to the tasks. The author is Mateusz Pawlowski.\n",
    "***"
   ]
  },
  {
   "cell_type": "markdown",
   "metadata": {},
   "source": [
    "## Task 1: Calculate a sqaure root"
   ]
  },
  {
   "cell_type": "markdown",
   "metadata": {},
   "source": [
    "### Introduction\n",
    "[1] In a mathematical form, a square root is a number equal to a number that is squared by itself. For example: $ y^2 = x $. \n",
    "<br>\n",
    "The symbol $ \\sqrt{} $ will always mean the positive square root.\n",
    "<br>\n",
    "Example: $ \\sqrt{64} = 8 $ thats beacause $ 8^2 = 64 $\n",
    "\n",
    "We can calculate the square root of a number using Newton's method [1,2].\n",
    "To find the square root $z$ number $x$, we can iterate using the following equation.\n",
    "$$ z = y + (\\frac xy) $$\n",
    "\n",
    "### My way of getting the answer\n",
    "With a quick google search I was able to find some good square root function however all of the functions were outputting around 50 digits after the decimal and after that it would just show me zeros. That was no good to me as our task stated we needed the first hundred numbers after the decimal. This made the task much harder to figure out and gave me a challenge. After some resaearch I found a forum on stackoverflow [4], explaining and showing a way of generating x amount of digits. This would store the information in a string. Now after that I have the numbers itself and they are fairly accurate to the original i needed to add a decimal after the first digit. That is when I started looking around the internet again and found another forum on stackoverflow explaining and showing how to go about it [5].\n",
    "\n",
    "### References\n",
    "[1] Wikipedia; Square root; https://en.wikipedia.org/wiki/Square_root\n",
    "\n",
    "[2] A Tour of Go; Exercise: Loops and Functions; https://tour.golang.org/flowcontrol/8\n",
    "\n",
    "[3] Newton's Method; https://en.wikipedia.org/wiki/Newton%27s_method\n",
    "\n",
    "[4] Generate x Amount of digits: Author, cashev; https://stackoverflow.com/questions/5187664/generating-digits-of-square-root-of-2\n",
    "\n",
    "[5] Add dot seperator: Author, Dmytro Chasovskyi; https://stackoverflow.com/questions/53976250/how-to-add-dot-separator-on-different-positions-of-a-number-in-python"
   ]
  },
  {
   "cell_type": "code",
   "execution_count": 1,
   "metadata": {},
   "outputs": [],
   "source": [
    "def sqrt2():\n",
    "    \n",
    "    \"\"\"\n",
    "    A function to calculate the square root of a number x.\n",
    "    \"\"\"\n",
    "    \n",
    "    # initialise x to 2 as we are \n",
    "    # looking for the square root of 2\n",
    "    x = 2\n",
    "    \n",
    "    x = x *(10**(2*100))\n",
    "    y = 0\n",
    "    z = 1 * (10**100)\n",
    "    \n",
    "    # while loop until the accuracy is good\n",
    "    while y!=z:\n",
    "        y = z\n",
    "        z = (y + ( x // y)) >> 1\n",
    "        \n",
    "    # store the value in a list\n",
    "    l = list(str(z))\n",
    "    \n",
    "    # add a dot after 1 decimanl place\n",
    "    l.insert(1, '.')\n",
    "    \n",
    "    # in order to make the numbers horizontal\n",
    "    # instead of vertical\n",
    "    num = ''.join(l)\n",
    "    \n",
    "    # return the value\n",
    "    return num"
   ]
  },
  {
   "cell_type": "code",
   "execution_count": 2,
   "metadata": {},
   "outputs": [
    {
     "data": {
      "text/plain": [
       "'1.4142135623730950488016887242096980785696718753769480731766797379907324784621070388503875343276415727'"
      ]
     },
     "execution_count": 2,
     "metadata": {},
     "output_type": "execute_result"
    }
   ],
   "source": [
    "# call function\n",
    "sqrt2()"
   ]
  },
  {
   "cell_type": "markdown",
   "metadata": {},
   "source": [
    "https://www.tutorialspoint.com/How-to-perform-square-root-without-using-math-module-in-Python\n",
    "\n",
    "https://www.codegrepper.com/code-examples/matlab/Limiting+floats+to+100+decimal+points+python\n",
    "\n",
    "https://apod.nasa.gov/htmltest/gifcity/sqrt10.1mil"
   ]
  },
  {
   "cell_type": "markdown",
   "metadata": {},
   "source": [
    "## Task: Chi squared value\n"
   ]
  },
  {
   "cell_type": "markdown",
   "metadata": {},
   "source": [
    "### Introduction\n",
    "A Chi Squared test also known as $ x^2 $ test is a statistical hypothesis test. It is a test to see is there a significant relationship between two categorical variables (wheter the varaibles are independent or related). This test can not compare any continuous variables or categorical and continuous  variables. \n",
    "\n",
    "We are not calculating one thing with the whole test. Matter of fact it is 4 different tests we are going to perform. The degrees of freedom, expected frequencies, test statistics and the p-value.\n",
    "Here are the formulas for each one:\n",
    "\n",
    "[2]\n",
    "**Degrees of freedom:** $DF = (r - 1) * (c - 1)$ where $r$ is the number of level for one categorical variable and $c$ is the number of levels for the other categorical variables.\n",
    "\n",
    "[2]\n",
    "**Expected frequencies:** $E_r,_c = \\frac{n_r*n_c}{n}$ (to see it better: $E_r,_c = n_r*n_c / n$) where $E_r,_c$ is the expected frequency count for level $r$ of variable $A$ and level $c$ of variable $B$. $N_r$ is the total number of sample observations at level $r$ of variable $A$. $N_c$ is the total number of sample observations at level $c$ of Variable $B$. $n$ is the total sample size.\n",
    "\n",
    "[2]\n",
    "**Test Statistic:** $x^2 = \\Sigma [\\frac{(O_r,_c - E_r,_c)^2}{E_r,_c}]$ (to see it better: $x^2 = \\Sigma [(O_r,_c - E_r,_c)^2 / E_r,_c])$ where $O_r,_c$ is the observed frequency count at level $r$ of Variable $A$ and level $c$ of Variable $B$, and $E_r,_c$ is the expected frequency count at level $r$ of Variable $A$ and level $c$ of Variable $B$.\n",
    "\n",
    "[2]\n",
    "**P Value:** The P-value is the probability of observing a sample statistic as extreme as the test statistic. Since the test statistic is a chi-square, use the Chi-Square Distribution Calculator to assess the probability associated with the test statistic. Use the degrees of freedom computed above.\n",
    "\n",
    "### My Way Of Getting The Answer\n",
    "For this task we were given a table that was originally taken from the wikipedia. It is shown with the image below.\n",
    "![Chi Squared](img/chiSquare.png)\n",
    "I had no idea of what a chi square test for independace was before starting this task. This made me have to do much more research compared to the square root task. I had a hard time in the beginning figuring it out but after some time I found a nice sites that helped me understand it better. With me understanding it, I started to look at the coding part. I there was lots of documentation but eventually I found a website \n",
    "### References\n",
    "https://libguides.library.kent.edu/spss/chisquare\n",
    "\n",
    "[2] Stat Trek: Analyze Sample Data;https://stattrek.com/chi-square-test/independence.aspx\n",
    "https://oeis.org/wiki/List_of_LaTeX_mathematical_symbols\n",
    "\n",
    "https://pythonhealthcare.org/2018/04/13/58-statistics-chi-squared-test/"
   ]
  },
  {
   "cell_type": "code",
   "execution_count": 3,
   "metadata": {},
   "outputs": [
    {
     "name": "stdout",
     "output_type": "stream",
     "text": [
      "24.6\n",
      "0.0004098425861096696\n",
      "6\n",
      "[[ 80.53846154  80.53846154 107.38461538  80.53846154]\n",
      " [ 34.84615385  34.84615385  46.46153846  34.84615385]\n",
      " [ 34.61538462  34.61538462  46.15384615  34.61538462]]\n"
     ]
    }
   ],
   "source": [
    "# imports\n",
    "import scipy.stats as stats\n",
    "\n",
    "# creating arrays \n",
    "cols = ['A', 'B', 'C', 'D']\n",
    "data = [[90, 60, 104, 95],[30,50,51,20],[30,40,45,35]]\n",
    "\n",
    "# chi2 - chi squared value\n",
    "# p - associated p value\n",
    "# df - degrees freedom\n",
    "# exp - expected frequencies\n",
    "\n",
    "# is a function that returns 4 values\n",
    "chi2,p,df,exp = stats.chi2_contingency(data)\n",
    "\n",
    "# print outs of the answers\n",
    "print(\"%.1f\"% chi2)\n",
    "print(p)\n",
    "print(df)\n",
    "print(exp)"
   ]
  },
  {
   "cell_type": "markdown",
   "metadata": {},
   "source": [
    "### Task 3: Standard Deviation Difference"
   ]
  },
  {
   "cell_type": "markdown",
   "metadata": {},
   "source": [
    "Population standard deviation defenition:Population standard deviation is a paramete. It is a fixed value calculated from every individual from the population. \n",
    "\n",
    "Sample standard devation defenition: Sample standard deviation is a statistic. It is calculated only from a \"sample\" of the population. Since it depends on the sample itself it has a higher variability making it greater from population standard devitation \n",
    "\n",
    "\n",
    "https://www.thoughtco.com/population-vs-sample-standard-deviations-3126372#:~:text=The%20population%20standard%20deviation%20is,the%20individuals%20in%20a%20population.\n",
    "\n",
    "\n",
    "\n"
   ]
  },
  {
   "cell_type": "code",
   "execution_count": 4,
   "metadata": {},
   "outputs": [
    {
     "name": "stdout",
     "output_type": "stream",
     "text": [
      "Population Standard Deviation: 25.491194958419722 \n",
      "\n",
      "Sample Standard Deviation: 22.76312808029687\n",
      "Sample Standard Deviation: 22.741152125607\n"
     ]
    }
   ],
   "source": [
    "# imports\n",
    "import numpy as np \n",
    "\n",
    "# datasets for calculations\n",
    "fullData = [28, 20, 36, 41, 45, 66, 15, 42, 98, 2 , 5 , 7 , 11, 23]\n",
    "sampleData = [2, 11, 36 , 41, 66]\n",
    "\n",
    "# calculating the std.P with full data\n",
    "stdP = np.sqrt(np.sum((fullData - np.mean(fullData))**2)/len(fullData))\n",
    "\n",
    "# using sample data to calculate std.P and std.S\n",
    "stdQS = np.sqrt(np.sum((sampleData - np.mean(sampleData))**2)/len(sampleData))\n",
    "stdS = np.sqrt(np.sum((sampleData - np.mean(sampleData))**2)/len(sampleData)-1)\n",
    "\n",
    "# printing out and showing that std.S is more accurate from std.P\n",
    "print(\"Population Standard Deviation:\",stdP,\"\\n\")\n",
    "print(\"Sample Standard Deviation:\",stdQS)\n",
    "print(\"Sample Standard Deviation:\",stdS)\n"
   ]
  },
  {
   "cell_type": "markdown",
   "metadata": {},
   "source": [
    "### Task4: Iris Data Set "
   ]
  },
  {
   "cell_type": "code",
   "execution_count": null,
   "metadata": {},
   "outputs": [],
   "source": []
  }
 ],
 "metadata": {
  "kernelspec": {
   "display_name": "Python 3",
   "language": "python",
   "name": "python3"
  },
  "language_info": {
   "codemirror_mode": {
    "name": "ipython",
    "version": 3
   },
   "file_extension": ".py",
   "mimetype": "text/x-python",
   "name": "python",
   "nbconvert_exporter": "python",
   "pygments_lexer": "ipython3",
   "version": "3.8.3"
  }
 },
 "nbformat": 4,
 "nbformat_minor": 4
}
